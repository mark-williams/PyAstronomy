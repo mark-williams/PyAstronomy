{
 "cells": [
  {
   "cell_type": "markdown",
   "metadata": {},
   "source": [
    "Restrictions via algorithm with convenience function\n",
    "==========================================="
   ]
  },
  {
   "cell_type": "code",
   "execution_count": 1,
   "metadata": {},
   "outputs": [
    {
     "name": "stdout",
     "output_type": "stream",
     "text": [
      "------------------- Parameter summary --------------------\n",
      "      A =     0.553401, free: T, restricted: F, related: F\n",
      "     mu =      10.0734, free: T, restricted: F, related: F\n",
      "    sig =            5, free: T, restricted: T, related: F\n",
      "    off =      1.00454, free: T, restricted: F, related: F\n",
      "    lin =            0, free: F, restricted: F, related: F\n",
      "----------------------------------------------------------\n"
     ]
    },
    {
     "data": {
      "image/png": "[encoded data removed]",
      "text/plain": [
       "<Figure size 432x288 with 1 Axes>"
      ]
     },
     "metadata": {
      "needs_background": "light"
     },
     "output_type": "display_data"
    }
   ],
   "source": [
    "from __future__ import print_function, division\n",
    "from numpy import arange, sqrt, exp, pi, random, ones_like\n",
    "import matplotlib.pylab as plt\n",
    "from PyAstronomy import funcFit2 as fuf2\n",
    "import scipy.optimize as sco\n",
    "\n",
    "random.seed(1234)\n",
    "\n",
    "# Creating a Gaussian with some noise\n",
    "# Choose some parameters...\n",
    "gPar = {\"A\":1.0, \"sig\":10.0, \"mu\":10.0, \"off\":1.0, \"lin\":0.0}\n",
    "# Calculate profile\n",
    "x = arange(100) - 50.0\n",
    "y = gPar[\"off\"] + gPar[\"A\"] / sqrt(2*pi*gPar[\"sig\"]**2) \\\n",
    "    * exp(-(x-gPar[\"mu\"])**2/(2*gPar[\"sig\"]**2))\n",
    "# Add some noise...\n",
    "y += random.normal(0.0, 0.002, x.size)\n",
    "# ...and save the error bars\n",
    "yerr = ones_like(x)*0.002\n",
    "# Let us see what we have done...\n",
    "plt.plot(x, y, 'bp')\n",
    "\n",
    "# Create a model object\n",
    "gf = fuf2.GaussFit()\n",
    "\n",
    "# Set guess values for the parameters\n",
    "gf.assignValues({\"A\":3, \"sig\":3.77, \"off\":0.96, \"mu\":10.5})\n",
    "\n",
    "# 'Thaw' those (the order is irrelevant)\n",
    "gf.thaw([\"mu\", \"sig\", \"off\", \"A\"])\n",
    "\n",
    "# Restrict the valid range for sigma\n",
    "gf.setRestriction({\"sig\":[0,5]})\n",
    "\n",
    "# The convenience function 'fitfmin_l_bfgs_b1d' automatically channels\n",
    "# the restrictions from the model to the algorithm.\n",
    "fuf2.fitfmin_l_bfgs_b(gf, x, y, yerr=yerr)\n",
    "\n",
    "gf.parameterSummary()\n",
    "plt.title(\"Bad fit because of parameter restrictions\")\n",
    "plt.plot(x, gf.evaluate(x), 'r--')\n",
    "plt.show()"
   ]
  }
 ],
 "metadata": {
  "kernelspec": {
   "display_name": "Python 3",
   "language": "python",
   "name": "python3"
  },
  "language_info": {
   "codemirror_mode": {
    "name": "ipython",
    "version": 3
   },
   "file_extension": ".py",
   "mimetype": "text/x-python",
   "name": "python",
   "nbconvert_exporter": "python",
   "pygments_lexer": "ipython3",
   "version": "3.6.10"
  }
 },
 "nbformat": 4,
 "nbformat_minor": 4
}
